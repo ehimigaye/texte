{
 "cells": [
  {
   "cell_type": "code",
   "execution_count": null,
   "id": "30560fc5",
   "metadata": {},
   "outputs": [],
   "source": [
    "#essayons d abord de determiner le repertoire de travail:\n",
    "import os\n",
    "path = os.getcwd()\n",
    "print(\"Le répertoire courant est : \" + path)\n",
    "repn = os.path.basename(path)\n",
    "print(\"Le nom du répertoire est : \" + repn)"
   ]
  },
  {
   "cell_type": "code",
   "execution_count": null,
   "id": "0a802190",
   "metadata": {},
   "outputs": [],
   "source": [
    "#lisons un fichier et son contenu\n",
    "f = open(\"finni.txt\")\n",
    "f.readlines()\n",
    "\n",
    "\n"
   ]
  },
  {
   "cell_type": "code",
   "execution_count": null,
   "id": "d17119d7",
   "metadata": {},
   "outputs": [],
   "source": [
    "#lire les n premieres lignes du texte\n",
    "n = int(input())\n",
    "f = open(\"finni.txt\")\n",
    "m = f.readlines()\n",
    "print(m[:n])\n",
    "f.close()"
   ]
  },
  {
   "cell_type": "code",
   "execution_count": null,
   "id": "0d524efd",
   "metadata": {},
   "outputs": [],
   "source": [
    "#lire les n dernieres lignes du texte\n",
    "y  = int(input())\n",
    "f = open(\"finni.txt\")\n",
    "m = f.readlines()\n",
    "print(m[y:])\n",
    "f.close()"
   ]
  },
  {
   "cell_type": "code",
   "execution_count": null,
   "id": "f36a253b",
   "metadata": {},
   "outputs": [],
   "source": []
  },
  {
   "cell_type": "code",
   "execution_count": null,
   "id": "f8a19064",
   "metadata": {},
   "outputs": [],
   "source": []
  }
 ],
 "metadata": {
  "kernelspec": {
   "display_name": "Python 3 (ipykernel)",
   "language": "python",
   "name": "python3"
  },
  "language_info": {
   "codemirror_mode": {
    "name": "ipython",
    "version": 3
   },
   "file_extension": ".py",
   "mimetype": "text/x-python",
   "name": "python",
   "nbconvert_exporter": "python",
   "pygments_lexer": "ipython3",
   "version": "3.9.13"
  }
 },
 "nbformat": 4,
 "nbformat_minor": 5
}
